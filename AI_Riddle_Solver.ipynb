{
  "nbformat": 4,
  "nbformat_minor": 0,
  "metadata": {
    "colab": {
      "provenance": []
    },
    "kernelspec": {
      "name": "python3",
      "display_name": "Python 3"
    },
    "language_info": {
      "name": "python"
    }
  },
  "cells": [
    {
      "cell_type": "code",
      "source": [
        "!pip install colorama\n"
      ],
      "metadata": {
        "colab": {
          "base_uri": "https://localhost:8080/"
        },
        "id": "tLdIlQEwjvUZ",
        "outputId": "650bcad9-98c1-4968-e584-61f2ab603926"
      },
      "execution_count": 53,
      "outputs": [
        {
          "output_type": "stream",
          "name": "stdout",
          "text": [
            "Collecting colorama\n",
            "  Downloading colorama-0.4.6-py2.py3-none-any.whl.metadata (17 kB)\n",
            "Downloading colorama-0.4.6-py2.py3-none-any.whl (25 kB)\n",
            "Installing collected packages: colorama\n",
            "Successfully installed colorama-0.4.6\n"
          ]
        }
      ]
    },
    {
      "cell_type": "code",
      "source": [
        "import requests\n",
        "from colorama import Fore, Style, init\n",
        "import textwrap\n",
        "\n",
        "# Initialize colorama\n",
        "init(autoreset=True)\n",
        "\n",
        "def search_riddle_answer(riddle):\n",
        "    \"\"\"\n",
        "    Search for riddle answers using Serper.dev API.\n",
        "    Args:\n",
        "        riddle (str): The riddle to query.\n",
        "    Returns:\n",
        "        str: Extracted snippet from the top search result or a fallback message.\n",
        "    \"\"\"\n",
        "    url = \"https://google.serper.dev/search\"\n",
        "    headers = {\n",
        "        \"X-API-KEY\": \"66d15eba9dc0879f5acfa8b5c08b3bdc7205a330\",  # Provided API key\n",
        "        \"Content-Type\": \"application/json\",\n",
        "    }\n",
        "    data = {\n",
        "        \"q\": riddle\n",
        "    }\n",
        "\n",
        "    try:\n",
        "        response = requests.post(url, headers=headers, json=data)\n",
        "        response.raise_for_status()\n",
        "        result = response.json()\n",
        "\n",
        "        # Extract and return the top snippet\n",
        "        if \"organic\" in result and len(result[\"organic\"]) > 0:\n",
        "            snippet = result[\"organic\"][0].get(\"snippet\", \"No snippet available.\")\n",
        "            return snippet\n",
        "        else:\n",
        "            return \"No answer found. Try rephrasing the riddle.\"\n",
        "    except Exception as e:\n",
        "        return f\"An error occurred: {e}\"\n",
        "\n",
        "def print_decorative_output(riddle, answer):\n",
        "    \"\"\"\n",
        "    Print the riddle and answer with professional formatting.\n",
        "    \"\"\"\n",
        "    print(Fore.LIGHTWHITE_EX + \"=\" * 60)\n",
        "    print(Fore.CYAN + Style.BRIGHT + \"🔍 AI-Powered Riddle Solver\")\n",
        "    print(Fore.LIGHTWHITE_EX + \"=\" * 60)\n",
        "\n",
        "    print(Fore.LIGHTCYAN_EX + \"\\nYour Riddle:\")\n",
        "    print(Fore.LIGHTWHITE_EX + Style.NORMAL + textwrap.fill(riddle, width=60))  # Wrap long riddle text\n",
        "\n",
        "    print(Fore.LIGHTBLUE_EX + \"\\nThinking... 🤔\\n\\nI've got it 😁😁\\n\")\n",
        "    print(Fore.LIGHTGREEN_EX + Style.BRIGHT + \"\\nHere's the answer I found:\")\n",
        "    print(Fore.LIGHTWHITE_EX + Style.BRIGHT + textwrap.fill(answer, width=60))  # Wrap long answer text\n",
        "\n",
        "    print(Fore.LIGHTWHITE_EX + \"=\" * 60 + \"\\n\")\n",
        "\n",
        "# Main Program\n",
        "if __name__ == \"__main__\":\n",
        "    print(Fore.LIGHTCYAN_EX + Style.BRIGHT + \"Welcome to the AI Riddle Game! 🎉\\n\")\n",
        "    while True:\n",
        "        riddle = input(Fore.LIGHTCYAN_EX + \"Enter a riddle (or type 'exit' to quit): \").strip()\n",
        "        if riddle.lower() == \"exit\":\n",
        "            print(Fore.LIGHTCYAN_EX + \"\\nThank you for playing! Goodbye! 👋\")\n",
        "            break\n",
        "        answer = search_riddle_answer(riddle)\n",
        "        print_decorative_output(riddle, answer)\n"
      ],
      "metadata": {
        "colab": {
          "base_uri": "https://localhost:8080/"
        },
        "id": "aqiQhp2KOA7K",
        "outputId": "683bb994-dbcd-4b97-81c1-b4dcaec7c21f"
      },
      "execution_count": 58,
      "outputs": [
        {
          "output_type": "stream",
          "name": "stdout",
          "text": [
            "Welcome to the AI Riddle Game! 🎉\n",
            "\n",
            "\u001b[96mEnter a riddle (or type 'exit' to quit): I can go all around the world but never leave my corner. What am I?\n",
            "============================================================\n",
            "🔍 AI-Powered Riddle Solver\n",
            "============================================================\n",
            "\n",
            "Your Riddle:\n",
            "I can go all around the world but never leave my corner.\n",
            "What am I?\n",
            "\n",
            "Thinking... 🤔\n",
            "\n",
            "I've got it 😁😁\n",
            "\n",
            "\n",
            "Here's the answer I found:\n",
            "I go all around the world, but never leave the corner. What\n",
            "am I? Scroll down to find the answer. Answer: A stamp.\n",
            "============================================================\n",
            "\n",
            "\u001b[96mEnter a riddle (or type 'exit' to quit): exit\n",
            "\n",
            "Thank you for playing! Goodbye! 👋\n"
          ]
        }
      ]
    }
  ]
}